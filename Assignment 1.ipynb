{
 "cells": [
  {
   "cell_type": "markdown",
   "id": "5a096192-94ec-40f3-853e-20fc082d8162",
   "metadata": {},
   "source": [
    "#Assignment 1 "
   ]
  },
  {
   "cell_type": "markdown",
   "id": "35bc8878-b233-44a0-8053-8ca7b596db34",
   "metadata": {},
   "source": [
    "1. Create a variable x and assign it the value 5. Print the value of x"
   ]
  },
  {
   "cell_type": "code",
   "execution_count": 1,
   "id": "e9414adf-f687-494f-836b-508f099e4a15",
   "metadata": {},
   "outputs": [
    {
     "name": "stdout",
     "output_type": "stream",
     "text": [
      "5\n"
     ]
    }
   ],
   "source": [
    "x=5\n",
    "print(x)"
   ]
  },
  {
   "cell_type": "markdown",
   "id": "be5416f6-b291-409d-b6a6-60364ec646d2",
   "metadata": {},
   "source": [
    "2. Create two variables a and b, and assign them values 3 and 2 respectively. Add a and b together and print the\n",
    "result."
   ]
  },
  {
   "cell_type": "code",
   "execution_count": 2,
   "id": "2fd71f57-690c-4c95-a8bd-b142c489f422",
   "metadata": {},
   "outputs": [
    {
     "name": "stdout",
     "output_type": "stream",
     "text": [
      "5\n"
     ]
    }
   ],
   "source": [
    "a=3\n",
    "b=2\n",
    "c=a+b\n",
    "print(c)"
   ]
  },
  {
   "cell_type": "markdown",
   "id": "9ddcee93-dcba-4dde-bd59-576342ef5ccf",
   "metadata": {},
   "source": [
    "3.Create a variable pi and assign it the value 3.14159. Print the value of pi."
   ]
  },
  {
   "cell_type": "code",
   "execution_count": 3,
   "id": "3bc544a2-2bab-4e56-b83a-818e31491645",
   "metadata": {},
   "outputs": [
    {
     "name": "stdout",
     "output_type": "stream",
     "text": [
      "3.14159\n"
     ]
    }
   ],
   "source": [
    "pi=3.14159\n",
    "print(pi)"
   ]
  },
  {
   "cell_type": "markdown",
   "id": "c2bdb8f6-ab10-40da-8166-fad804703d4b",
   "metadata": {},
   "source": [
    "4.Create a variable radius and assign it the value 5. Calculate the area of a circle with radius radius using the\n",
    "formula pi * radius ** 2 and print the result"
   ]
  },
  {
   "cell_type": "code",
   "execution_count": 5,
   "id": "4b009d14-8c68-4174-80f5-f0b22b51bd34",
   "metadata": {},
   "outputs": [
    {
     "name": "stdout",
     "output_type": "stream",
     "text": [
      "78.53975\n"
     ]
    }
   ],
   "source": [
    "radius=5\n",
    "pi=3.14159\n",
    "area=pi*radius**2\n",
    "print(area)"
   ]
  },
  {
   "cell_type": "markdown",
   "id": "97941367-2d91-499e-b55f-08590b6b0702",
   "metadata": {},
   "source": [
    "5. Create a variable name and assign it your name as a string. Print a greeting using your name, such as \"Hello,\n",
    "[name]!\""
   ]
  },
  {
   "cell_type": "code",
   "execution_count": 14,
   "id": "c8311b48-5d75-473f-885f-fe06d45c9684",
   "metadata": {},
   "outputs": [
    {
     "name": "stdout",
     "output_type": "stream",
     "text": [
      "Hello,Balaganesh!\n"
     ]
    }
   ],
   "source": [
    "name = \"Balaganesh\"\n",
    "print(\"Hello,\"+name+\"!\")"
   ]
  },
  {
   "cell_type": "markdown",
   "id": "dd32d476-1cab-48a8-9b8c-966a080314a3",
   "metadata": {},
   "source": [
    "6. Create a variable age and assign it your age as an integer. Print a sentence that includes your age, such as \"I am\n",
    "[age] years old.\""
   ]
  },
  {
   "cell_type": "code",
   "execution_count": 20,
   "id": "6c83a817-2183-4716-a342-60b357e630f6",
   "metadata": {},
   "outputs": [
    {
     "name": "stdout",
     "output_type": "stream",
     "text": [
      "im am 30 years old.\n"
     ]
    }
   ],
   "source": [
    "age=30\n",
    "print(\"im am \"+str(age)+\" years old.\")"
   ]
  },
  {
   "cell_type": "markdown",
   "id": "7dfdc613-6a10-4ba5-bef0-242b44fd63c4",
   "metadata": {},
   "source": [
    "7. Create a variable height and assign it your height in meters as a float. Print a sentence that includes your\n",
    "height, such as \"I am [height] meters tall.\""
   ]
  },
  {
   "cell_type": "code",
   "execution_count": 22,
   "id": "3e9f8f4e-3525-4643-b140-99f9eb601740",
   "metadata": {},
   "outputs": [
    {
     "name": "stdout",
     "output_type": "stream",
     "text": [
      "im am 1.56 meters tall.\n"
     ]
    }
   ],
   "source": [
    "height=1.56\n",
    "print(\"im am \"+str(height)+\" meters tall.\")"
   ]
  },
  {
   "cell_type": "markdown",
   "id": "4af105e8-b630-431a-a693-43cb84736e0b",
   "metadata": {},
   "source": [
    "8.Create a variable sentence and assign it a sentence as a string. Print the first letter of the sentence"
   ]
  },
  {
   "cell_type": "code",
   "execution_count": 24,
   "id": "9f8a52f1-5a5f-4d8d-9fcf-3a59694af5b9",
   "metadata": {},
   "outputs": [
    {
     "name": "stdout",
     "output_type": "stream",
     "text": [
      "The first letter is: i\n"
     ]
    }
   ],
   "source": [
    "sentence=\"i am Balaganesh im 30 years old.\"\n",
    "# Printing the first letter of the sentence\n",
    "first_letter = sentence[0]\n",
    "print(\"The first letter is:\", first_letter)"
   ]
  },
  {
   "cell_type": "markdown",
   "id": "6266a127-ad2f-429d-b25f-fbc94315677b",
   "metadata": {},
   "source": [
    "9. Create a variable sentence and assign it a sentence as a string. Print the last letter of the sentence"
   ]
  },
  {
   "cell_type": "code",
   "execution_count": 26,
   "id": "8baeff94-e518-44c2-8348-14723d0367ad",
   "metadata": {},
   "outputs": [
    {
     "name": "stdout",
     "output_type": "stream",
     "text": [
      "The last letter is: d\n"
     ]
    }
   ],
   "source": [
    "sentence=\"i am Balaganesh im 30 years old\"\n",
    "# printing the last letter of the sentence\n",
    "last_letter = sentence[-1]\n",
    "print(\"The last letter is:\", last_letter)"
   ]
  },
  {
   "cell_type": "markdown",
   "id": "fdffb292-feed-4227-b92b-3387ba5307ab",
   "metadata": {},
   "source": [
    "10.Create a variable sentence and assign it a sentence as a string. Print the length of the sentence."
   ]
  },
  {
   "cell_type": "code",
   "execution_count": 28,
   "id": "27365944-c3cd-41d8-982a-f6d6fb0708a3",
   "metadata": {},
   "outputs": [
    {
     "name": "stdout",
     "output_type": "stream",
     "text": [
      "The length of the sentence is: 32\n"
     ]
    }
   ],
   "source": [
    "sentence=\"i am Balaganesh im 30 years old.\"\n",
    "#printing the length of the sentence\n",
    "length_of_sentence = len(sentence)\n",
    "print(\"The length of the sentence is:\", length_of_sentence)"
   ]
  },
  {
   "cell_type": "code",
   "execution_count": null,
   "id": "254b4d6e-7a91-4e5d-8b9e-2dea0fc73f56",
   "metadata": {},
   "outputs": [],
   "source": []
  }
 ],
 "metadata": {
  "kernelspec": {
   "display_name": "Python 3 (ipykernel)",
   "language": "python",
   "name": "python3"
  },
  "language_info": {
   "codemirror_mode": {
    "name": "ipython",
    "version": 3
   },
   "file_extension": ".py",
   "mimetype": "text/x-python",
   "name": "python",
   "nbconvert_exporter": "python",
   "pygments_lexer": "ipython3",
   "version": "3.11.4"
  }
 },
 "nbformat": 4,
 "nbformat_minor": 5
}
